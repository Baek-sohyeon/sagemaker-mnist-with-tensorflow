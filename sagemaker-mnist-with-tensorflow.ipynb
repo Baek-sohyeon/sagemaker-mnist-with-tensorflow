{
 "cells": [
  {
   "cell_type": "markdown",
   "id": "97ba5c51",
   "metadata": {},
   "source": [
    "## 구현 순서"
   ]
  },
  {
   "cell_type": "markdown",
   "id": "198775d7",
   "metadata": {},
   "source": [
    "1. SageMaker를 이용한 MNIST 모델 훈련\n",
    "2. SageMaker 훈련모델 배포\n",
    "3. Neo를 사용한 훈련 모델 배포\n",
    "4. 추론 컨테이너를 지정한 Neo 훈련 모델 배포\n"
   ]
  },
  {
   "cell_type": "markdown",
   "id": "9d2e52d3",
   "metadata": {},
   "source": [
    "# 1. SageMaker를 이용한 MNIST 모델 훈련"
   ]
  },
  {
   "cell_type": "markdown",
   "id": "2abfe7c2",
   "metadata": {},
   "source": [
    "### 환경 설정"
   ]
  },
  {
   "cell_type": "code",
   "execution_count": 1,
   "id": "eb756508",
   "metadata": {},
   "outputs": [],
   "source": [
    "import sagemaker\n",
    "from sagemaker import get_execution_role\n",
    "\n",
    "sagemaker_session = sagemaker.Session()\n",
    "\n",
    "role = get_execution_role()\n",
    "region = sagemaker_session.boto_region_name"
   ]
  },
  {
   "cell_type": "code",
   "execution_count": 2,
   "id": "d6137b29",
   "metadata": {},
   "outputs": [],
   "source": [
    "tf_version = '1.15.2'"
   ]
  },
  {
   "cell_type": "code",
   "execution_count": 3,
   "id": "121d057c",
   "metadata": {},
   "outputs": [
    {
     "name": "stdout",
     "output_type": "stream",
     "text": [
      "download: s3://sagemaker-sample-data-us-west-2/tensorflow/mnist/eval_labels.npy to mnist/eval_labels.npy\n",
      "download: s3://sagemaker-sample-data-us-west-2/tensorflow/mnist/train_labels.npy to mnist/train_labels.npy\n",
      "download: s3://sagemaker-sample-data-us-west-2/tensorflow/mnist/eval_data.npy to mnist/eval_data.npy\n",
      "download: s3://sagemaker-sample-data-us-west-2/tensorflow/mnist/train_data.npy to mnist/train_data.npy\n"
     ]
    }
   ],
   "source": [
    "!aws --region {region} s3 cp s3://sagemaker-sample-data-{region}/tensorflow/mnist/ mnist --recursive"
   ]
  },
  {
   "cell_type": "code",
   "execution_count": 4,
   "id": "832f5065",
   "metadata": {},
   "outputs": [],
   "source": [
    "training_data_uri = \"s3://sagemaker-sample-data-{}/tensorflow/mnist\".format(region)"
   ]
  },
  {
   "cell_type": "code",
   "execution_count": 5,
   "id": "bff30a3d",
   "metadata": {
    "scrolled": false
   },
   "outputs": [],
   "source": [
    "# mnist 훈련 스크립트\n",
    "training_script = \"mnist.py\""
   ]
  },
  {
   "cell_type": "markdown",
   "id": "90069ebc",
   "metadata": {},
   "source": [
    "### SageMaker 훈련 작업 생성"
   ]
  },
  {
   "cell_type": "code",
   "execution_count": 6,
   "id": "7f3e643b",
   "metadata": {},
   "outputs": [],
   "source": [
    "from sagemaker.tensorflow import TensorFlow\n",
    "\n",
    "estimator = TensorFlow(\n",
    "    # MNIST 훈련 script\n",
    "    entry_point=training_script,\n",
    "    role=role,\n",
    "    instance_count=1,\n",
    "    instance_type=\"ml.p2.xlarge\",\n",
    "    framework_version=tf_version,\n",
    "    py_version=\"py3\",\n",
    ")"
   ]
  },
  {
   "cell_type": "code",
   "execution_count": null,
   "id": "0d1bf45a",
   "metadata": {
    "scrolled": false
   },
   "outputs": [],
   "source": [
    "# Sagemaker 훈련 작업 시작\n",
    "estimator.fit(training_data_uri)"
   ]
  },
  {
   "cell_type": "code",
   "execution_count": 8,
   "id": "51de8522",
   "metadata": {},
   "outputs": [
    {
     "name": "stdout",
     "output_type": "stream",
     "text": [
      "download: s3://sagemaker-sample-data-us-west-2/tensorflow/mnist/eval_data.npy to ./eval_data.npy\n",
      "download: s3://sagemaker-sample-data-us-west-2/tensorflow/mnist/eval_labels.npy to ./eval_labels.npy\n"
     ]
    }
   ],
   "source": [
    "import numpy as np\n",
    "\n",
    "!aws --region {region} s3 cp s3://sagemaker-sample-data-{region}/tensorflow/mnist/eval_data.npy eval_data.npy\n",
    "!aws --region {region} s3 cp s3://sagemaker-sample-data-{region}/tensorflow/mnist/eval_labels.npy eval_labels.npy\n",
    "\n",
    "eval_data = np.load(\"eval_data.npy\")\n",
    "eval_labels = np.load(\"eval_labels.npy\")"
   ]
  },
  {
   "cell_type": "markdown",
   "id": "e1332dc9",
   "metadata": {},
   "source": [
    " "
   ]
  },
  {
   "cell_type": "markdown",
   "id": "29a800de",
   "metadata": {},
   "source": [
    " "
   ]
  },
  {
   "cell_type": "markdown",
   "id": "1904e155",
   "metadata": {},
   "source": [
    "# 2. SageMaker 훈련모델 배포"
   ]
  },
  {
   "cell_type": "code",
   "execution_count": 9,
   "id": "cd1326a4",
   "metadata": {},
   "outputs": [
    {
     "name": "stderr",
     "output_type": "stream",
     "text": [
      "update_endpoint is a no-op in sagemaker>=2.\n",
      "See: https://sagemaker.readthedocs.io/en/stable/v2.html for details.\n"
     ]
    },
    {
     "name": "stdout",
     "output_type": "stream",
     "text": [
      "-----------!"
     ]
    }
   ],
   "source": [
    "predictor = estimator.deploy(initial_instance_count=1, instance_type=\"ml.c5.xlarge\")"
   ]
  },
  {
   "cell_type": "markdown",
   "id": "6aac2dd1",
   "metadata": {},
   "source": [
    "### 훈련 데이터 다운로드"
   ]
  },
  {
   "cell_type": "markdown",
   "id": "302d3d0b",
   "metadata": {},
   "source": [
    "## 첫 번째 실험"
   ]
  },
  {
   "cell_type": "markdown",
   "id": "75daa04f",
   "metadata": {},
   "source": [
    "- Neo Compile 전 훈련 모델 성능 측정"
   ]
  },
  {
   "cell_type": "code",
   "execution_count": 10,
   "id": "8cce60ef",
   "metadata": {},
   "outputs": [
    {
     "name": "stdout",
     "output_type": "stream",
     "text": [
      "Accuracy: 99.9705\n",
      "CPU times: user 22.3 s, sys: 548 ms, total: 22.9 s\n",
      "Wall time: 2min 20s\n"
     ]
    }
   ],
   "source": [
    "%%time\n",
    "# %%time : 해당 셀이 실행되는 데 걸리는 시간 측정\n",
    "\n",
    "# prediction : 모델의 예측값\n",
    "# label : 데이터의 실제값\n",
    "# count : 예측이 틀린 횟수\n",
    "\n",
    "count = 0\n",
    "for i in range(0, 10000):\n",
    "    data = eval_data[i]\n",
    "    predictions = predictor.predict(data)\n",
    "    prediction = predictions[\"predictions\"][0][\"classes\"]\n",
    "    label = eval_labels[i]\n",
    "#     print(\"prediction: {}, label: {}, matched: {}\".format(prediction, label, prediction == label))\n",
    "    if (prediction != label):\n",
    "        count += 1\n",
    "count = 100 - count/10000\n",
    "print(\"Accuracy: {}\".format(count))"
   ]
  },
  {
   "cell_type": "markdown",
   "id": "6d80142d",
   "metadata": {},
   "source": [
    "### 엔드포인트 삭제"
   ]
  },
  {
   "cell_type": "code",
   "execution_count": 11,
   "id": "7a81a820",
   "metadata": {},
   "outputs": [],
   "source": [
    "predictor.delete_endpoint()"
   ]
  },
  {
   "cell_type": "markdown",
   "id": "a12747c3",
   "metadata": {},
   "source": [
    " "
   ]
  },
  {
   "cell_type": "markdown",
   "id": "0295d8e0",
   "metadata": {},
   "source": [
    "  "
   ]
  },
  {
   "cell_type": "markdown",
   "id": "ec1126ef",
   "metadata": {},
   "source": [
    "# 3. Neo를 사용한 훈련 모델 배포"
   ]
  },
  {
   "cell_type": "markdown",
   "id": "7d6ee199",
   "metadata": {},
   "source": [
    "### 모델 컴파일"
   ]
  },
  {
   "cell_type": "code",
   "execution_count": 12,
   "id": "3105a177",
   "metadata": {},
   "outputs": [
    {
     "name": "stdout",
     "output_type": "stream",
     "text": [
      "???????????????????????????.....................................!"
     ]
    }
   ],
   "source": [
    "# output_path 컴파일된 모델이 S3에 저장되는 위치\n",
    "output_path = \"/\".join(estimator.output_path.split(\"/\")[:-1])\n",
    "\n",
    "# Neo compile할 대상 하드웨어 및 프레임워크 선택\n",
    "optimized_estimator = estimator.compile_model(\n",
    "    target_instance_family=\"ml_c5\",\n",
    "    input_shape={\"data\": [1, 784]},  # Batch size 1, 1 channel, 28*28 image size.\n",
    "    output_path=output_path,\n",
    "    framework=\"tensorflow\",\n",
    "    framework_version=\"1.15.3\",\n",
    ")"
   ]
  },
  {
   "cell_type": "markdown",
   "id": "bbb7392d",
   "metadata": {},
   "source": [
    "### 컴파일 된 모델 엔드포인트에 배포"
   ]
  },
  {
   "cell_type": "code",
   "execution_count": 13,
   "id": "e97c5836",
   "metadata": {},
   "outputs": [
    {
     "name": "stderr",
     "output_type": "stream",
     "text": [
      "update_endpoint is a no-op in sagemaker>=2.\n",
      "See: https://sagemaker.readthedocs.io/en/stable/v2.html for details.\n"
     ]
    },
    {
     "name": "stdout",
     "output_type": "stream",
     "text": [
      "-------------!"
     ]
    }
   ],
   "source": [
    "# 모델 최적화 후 실시간으로 예측 요청을 제공하는 Endpoint에 배포\n",
    "optimized_predictor = optimized_estimator.deploy(\n",
    "    initial_instance_count=1, instance_type=\"ml.c5.xlarge\"\n",
    ")"
   ]
  },
  {
   "cell_type": "markdown",
   "id": "c7123a27",
   "metadata": {},
   "source": [
    "## 두 번째 실험"
   ]
  },
  {
   "cell_type": "markdown",
   "id": "832b8fe7",
   "metadata": {},
   "source": [
    "- Neo compile 후 / 추론 컨테이너 이미지 지정 전 훈련 모델 성능 측정"
   ]
  },
  {
   "cell_type": "code",
   "execution_count": 14,
   "id": "170bdaa3",
   "metadata": {},
   "outputs": [
    {
     "name": "stdout",
     "output_type": "stream",
     "text": [
      "Accuracy: 99.9705\n",
      "CPU times: user 21.7 s, sys: 577 ms, total: 22.3 s\n",
      "Wall time: 1min 19s\n"
     ]
    }
   ],
   "source": [
    "%%time\n",
    "# %%time : 해당 셀이 실행되는 데 걸리는 시간 측정\n",
    "\n",
    "# prediction : 모델의 예측값\n",
    "# label : 데이터의 실제값\n",
    "# count : 예측이 틀린 횟수\n",
    "\n",
    "count = 0\n",
    "for i in range(0, 10000):\n",
    "    data = eval_data[i].tolist()\n",
    "    predictions = optimized_predictor.predict({\"instances\": np.asarray(data).tolist()})\n",
    "    prediction = predictions[\"predictions\"][0][\"classes\"]\n",
    "    label = eval_labels[i]\n",
    "#     print(\"prediction: {}, label: {}, matched: {}\".format(prediction, label, prediction == label))\n",
    "    if (prediction != label):\n",
    "        count += 1\n",
    "count = 100 - count/10000\n",
    "print(\"Accuracy: {}\".format(count))"
   ]
  },
  {
   "cell_type": "markdown",
   "id": "027e4e9c",
   "metadata": {},
   "source": [
    "### 엔드포인트 삭제"
   ]
  },
  {
   "cell_type": "code",
   "execution_count": 15,
   "id": "5c33afd5",
   "metadata": {},
   "outputs": [],
   "source": [
    "optimized_predictor.delete_endpoint()"
   ]
  },
  {
   "cell_type": "markdown",
   "id": "1dd4a37e",
   "metadata": {},
   "source": [
    " "
   ]
  },
  {
   "cell_type": "markdown",
   "id": "7712ed78",
   "metadata": {},
   "source": [
    " "
   ]
  },
  {
   "cell_type": "markdown",
   "id": "bc06ace1",
   "metadata": {},
   "source": [
    "# 4. 추론 컨테이너를 지정한 Neo 훈련 모델 배포"
   ]
  },
  {
   "cell_type": "markdown",
   "id": "982e6d8b",
   "metadata": {},
   "source": [
    "### 모델 컴파일"
   ]
  },
  {
   "cell_type": "code",
   "execution_count": 16,
   "id": "0c20b570",
   "metadata": {},
   "outputs": [
    {
     "name": "stdout",
     "output_type": "stream",
     "text": [
      "???????????????????????????................................!"
     ]
    }
   ],
   "source": [
    "# output_path 컴파일된 모델이 S3에 저장되는 위치\n",
    "output_path = \"/\".join(estimator.output_path.split(\"/\")[:-1])\n",
    "\n",
    "# Neo compile할 대상 하드웨어 및 프레임워크 선택\n",
    "optimized_estimator = estimator.compile_model(\n",
    "    target_instance_family=\"ml_c5\",\n",
    "    input_shape={\"data\": [1, 784]},  # Batch size 1, 1 channel, 28*28 image size.\n",
    "    output_path=output_path,\n",
    "    framework=\"tensorflow\",\n",
    "    framework_version=\"1.15.3\",\n",
    ")"
   ]
  },
  {
   "cell_type": "markdown",
   "id": "857d4037",
   "metadata": {},
   "source": [
    "### 추론 컨테이너 이미지 지정"
   ]
  },
  {
   "cell_type": "code",
   "execution_count": 17,
   "id": "e6b4affa",
   "metadata": {},
   "outputs": [],
   "source": [
    "optimized_estimator.image_uri = (\n",
    "    \"301217895009.dkr.ecr.us-west-2.amazonaws.com/sagemaker-inference-tensorflow:1.15.3-cpu-py3\"\n",
    ")"
   ]
  },
  {
   "cell_type": "markdown",
   "id": "992b3765",
   "metadata": {},
   "source": [
    "### 컴파일 된 모델 엔드포인트에 배포"
   ]
  },
  {
   "cell_type": "code",
   "execution_count": 18,
   "id": "289cfec9",
   "metadata": {},
   "outputs": [
    {
     "name": "stderr",
     "output_type": "stream",
     "text": [
      "update_endpoint is a no-op in sagemaker>=2.\n",
      "See: https://sagemaker.readthedocs.io/en/stable/v2.html for details.\n"
     ]
    },
    {
     "name": "stdout",
     "output_type": "stream",
     "text": [
      "-----------!"
     ]
    }
   ],
   "source": [
    "optimized_predictor = optimized_estimator.deploy(\n",
    "    initial_instance_count=1, instance_type=\"ml.c5.xlarge\"\n",
    ")"
   ]
  },
  {
   "cell_type": "markdown",
   "id": "d037e1ce",
   "metadata": {},
   "source": [
    "## 세 번째 실험"
   ]
  },
  {
   "cell_type": "markdown",
   "id": "9ae3e805",
   "metadata": {},
   "source": [
    "- Neo compile 후 / 추론 컨테이너 이미지 지정 후 훈련 모델 성능 측정"
   ]
  },
  {
   "cell_type": "code",
   "execution_count": 19,
   "id": "9d505002",
   "metadata": {},
   "outputs": [
    {
     "name": "stdout",
     "output_type": "stream",
     "text": [
      "Accuracy: 99.9705\n",
      "CPU times: user 22.3 s, sys: 567 ms, total: 22.9 s\n",
      "Wall time: 1min 18s\n"
     ]
    }
   ],
   "source": [
    "%%time\n",
    "# %%time : 해당 셀이 실행되는 데 걸리는 시간 측정\n",
    "\n",
    "# prediction : 모델의 예측값\n",
    "# label : 데이터의 실제값\n",
    "# count : 예측이 틀린 횟수\n",
    "\n",
    "count = 0\n",
    "for i in range(0, 10000):\n",
    "    data = eval_data[i].tolist()\n",
    "    predictions = optimized_predictor.predict({\"instances\": np.asarray(data).tolist()})\n",
    "    prediction = predictions[\"predictions\"][0][\"classes\"]\n",
    "    label = eval_labels[i]\n",
    "#     print(\"prediction: {}, label: {}, matched: {}\".format(prediction, label, prediction == label))\n",
    "    if (prediction != label):\n",
    "        count += 1\n",
    "count = 100 - count/10000\n",
    "print(\"Accuracy: {}\".format(count))"
   ]
  },
  {
   "cell_type": "markdown",
   "id": "8f0ef523",
   "metadata": {},
   "source": [
    "### 엔드포인트 삭제"
   ]
  },
  {
   "cell_type": "code",
   "execution_count": 20,
   "id": "2e285815",
   "metadata": {},
   "outputs": [],
   "source": [
    "optimized_predictor.delete_endpoint()"
   ]
  }
 ],
 "metadata": {
  "kernelspec": {
   "display_name": "conda_tensorflow_p36",
   "language": "python",
   "name": "conda_tensorflow_p36"
  },
  "language_info": {
   "codemirror_mode": {
    "name": "ipython",
    "version": 3
   },
   "file_extension": ".py",
   "mimetype": "text/x-python",
   "name": "python",
   "nbconvert_exporter": "python",
   "pygments_lexer": "ipython3",
   "version": "3.6.13"
  }
 },
 "nbformat": 4,
 "nbformat_minor": 5
}

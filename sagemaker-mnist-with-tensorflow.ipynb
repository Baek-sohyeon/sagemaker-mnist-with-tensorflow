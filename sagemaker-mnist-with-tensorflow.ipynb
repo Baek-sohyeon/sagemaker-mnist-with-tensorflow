{
 "cells": [
  {
   "cell_type": "markdown",
   "id": "796dbbbe",
   "metadata": {},
   "source": [
    "## 구현 순서"
   ]
  },
  {
   "cell_type": "markdown",
   "id": "5b79d609",
   "metadata": {},
   "source": [
    "1. SageMaker를 이용한 MNIST 모델 훈련\n",
    "2. SageMaker 훈련모델 배포\n",
    "3. Neo를 사용한 훈련 모델 배포\n",
    "4. 추론 컨테이너를 지정한 Neo 훈련 모델 배포\n"
   ]
  },
  {
   "cell_type": "markdown",
   "id": "d4b17122",
   "metadata": {},
   "source": [
    "# 1. SageMaker를 이용한 MNIST 모델 훈련"
   ]
  },
  {
   "cell_type": "markdown",
   "id": "cf59ab0c",
   "metadata": {},
   "source": [
    "### 환경 설정"
   ]
  },
  {
   "cell_type": "code",
   "execution_count": 1,
   "id": "abe90b63",
   "metadata": {},
   "outputs": [],
   "source": [
    "import sagemaker\n",
    "from sagemaker import get_execution_role\n",
    "\n",
    "sagemaker_session = sagemaker.Session()\n",
    "\n",
    "role = get_execution_role()\n",
    "region = sagemaker_session.boto_region_name"
   ]
  },
  {
   "cell_type": "code",
   "execution_count": 2,
   "id": "18c02e22",
   "metadata": {},
   "outputs": [],
   "source": [
    "tf_version = '1.15.2'"
   ]
  },
  {
   "cell_type": "code",
   "execution_count": 3,
   "id": "6aea83f6",
   "metadata": {},
   "outputs": [],
   "source": [
    "training_data_uri = \"s3://sagemaker-sample-data-{}/tensorflow/mnist\".format(region)"
   ]
  },
  {
   "cell_type": "code",
   "execution_count": 4,
   "id": "8e428c77",
   "metadata": {
    "scrolled": false
   },
   "outputs": [],
   "source": [
    "# mnist 훈련 스크립트\n",
    "training_script = \"mnist.py\""
   ]
  },
  {
   "cell_type": "markdown",
   "id": "5d934859",
   "metadata": {},
   "source": [
    "### SageMaker 훈련 작업 생성"
   ]
  },
  {
   "cell_type": "code",
   "execution_count": 5,
   "id": "1d5b325c",
   "metadata": {},
   "outputs": [],
   "source": [
    "from sagemaker.tensorflow import TensorFlow\n",
    "\n",
    "estimator = TensorFlow(\n",
    "    # MNIST 훈련 script\n",
    "    entry_point=training_script,\n",
    "    role=role,\n",
    "    instance_count=1,\n",
    "    instance_type=\"ml.p2.xlarge\",\n",
    "    framework_version=tf_version,\n",
    "    py_version=\"py3\",\n",
    ")"
   ]
  },
  {
   "cell_type": "code",
   "execution_count": null,
   "id": "4b75c6d4",
   "metadata": {
    "scrolled": false
   },
   "outputs": [],
   "source": [
    "# Sagemaker 훈련 작업 시작\n",
    "estimator.fit(training_data_uri)"
   ]
  },
  {
   "cell_type": "markdown",
   "id": "75e91b60",
   "metadata": {},
   "source": [
    " "
   ]
  },
  {
   "cell_type": "markdown",
   "id": "1ea8195d",
   "metadata": {},
   "source": [
    " "
   ]
  },
  {
   "cell_type": "markdown",
   "id": "6a7685d3",
   "metadata": {},
   "source": [
    "# 2. SageMaker 훈련모델 배포"
   ]
  },
  {
   "cell_type": "code",
   "execution_count": 7,
   "id": "f2e879c7",
   "metadata": {},
   "outputs": [
    {
     "name": "stderr",
     "output_type": "stream",
     "text": [
      "update_endpoint is a no-op in sagemaker>=2.\n",
      "See: https://sagemaker.readthedocs.io/en/stable/v2.html for details.\n"
     ]
    },
    {
     "name": "stdout",
     "output_type": "stream",
     "text": [
      "---!"
     ]
    }
   ],
   "source": [
    "predictor = estimator.deploy(initial_instance_count=1, instance_type=\"ml.c5.xlarge\")"
   ]
  },
  {
   "cell_type": "markdown",
   "id": "26ba1815",
   "metadata": {},
   "source": [
    "### 훈련 데이터 다운로드"
   ]
  },
  {
   "cell_type": "code",
   "execution_count": 8,
   "id": "c294a18a",
   "metadata": {},
   "outputs": [
    {
     "name": "stdout",
     "output_type": "stream",
     "text": [
      "download: s3://sagemaker-sample-data-us-west-2/tensorflow/mnist/train_data.npy to ./train_data.npy\n",
      "download: s3://sagemaker-sample-data-us-west-2/tensorflow/mnist/train_labels.npy to ./train_labels.npy\n"
     ]
    }
   ],
   "source": [
    "import numpy as np\n",
    "\n",
    "!aws --region {region} s3 cp s3://sagemaker-sample-data-{region}/tensorflow/mnist/train_data.npy train_data.npy\n",
    "!aws --region {region} s3 cp s3://sagemaker-sample-data-{region}/tensorflow/mnist/train_labels.npy train_labels.npy\n",
    "\n",
    "train_data = np.load(\"train_data.npy\")\n",
    "train_labels = np.load(\"train_labels.npy\")"
   ]
  },
  {
   "cell_type": "markdown",
   "id": "92283192",
   "metadata": {},
   "source": [
    "## 첫 번째 실험"
   ]
  },
  {
   "cell_type": "markdown",
   "id": "3c411e7c",
   "metadata": {},
   "source": [
    "- Neo Compile 전 훈련 모델 성능 측정"
   ]
  },
  {
   "cell_type": "code",
   "execution_count": 9,
   "id": "c012ea31",
   "metadata": {},
   "outputs": [
    {
     "name": "stdout",
     "output_type": "stream",
     "text": [
      "Accuracy: 99.966\n",
      "CPU times: user 22.6 s, sys: 577 ms, total: 23.2 s\n",
      "Wall time: 2min 19s\n"
     ]
    }
   ],
   "source": [
    "%%time\n",
    "# %%time : 해당 셀이 실행되는 데 걸리는 시간 측정\n",
    "\n",
    "# prediction : 모델의 예측값\n",
    "# label : 데이터의 실제값\n",
    "# count : 예측이 틀린 횟수\n",
    "\n",
    "count = 0\n",
    "for i in range(0, 10000):\n",
    "    data = train_data[i]\n",
    "    predictions = predictor.predict(data)\n",
    "    prediction = predictions[\"predictions\"][0][\"classes\"]\n",
    "    label = train_labels[i]\n",
    "#     print(\"prediction: {}, label: {}, matched: {}\".format(prediction, label, prediction == label))\n",
    "    if (prediction != label):\n",
    "        count += 1\n",
    "count = 100 - count/10000\n",
    "print(\"Accuracy: {}\".format(count))"
   ]
  },
  {
   "cell_type": "markdown",
   "id": "2beff9e8",
   "metadata": {},
   "source": [
    "### 엔드포인트 삭제"
   ]
  },
  {
   "cell_type": "code",
   "execution_count": 10,
   "id": "c6823b96",
   "metadata": {},
   "outputs": [],
   "source": [
    "predictor.delete_endpoint()"
   ]
  },
  {
   "cell_type": "markdown",
   "id": "e48b570b",
   "metadata": {},
   "source": [
    " "
   ]
  },
  {
   "cell_type": "markdown",
   "id": "9753e262",
   "metadata": {},
   "source": [
    "  "
   ]
  },
  {
   "cell_type": "markdown",
   "id": "17c3f4aa",
   "metadata": {},
   "source": [
    "# 3. Neo를 사용한 훈련 모델 배포"
   ]
  },
  {
   "cell_type": "markdown",
   "id": "086f065c",
   "metadata": {},
   "source": [
    "### 모델 컴파일"
   ]
  },
  {
   "cell_type": "code",
   "execution_count": 11,
   "id": "3e7bb0f2",
   "metadata": {},
   "outputs": [
    {
     "name": "stdout",
     "output_type": "stream",
     "text": [
      "???????????????????????................................!"
     ]
    }
   ],
   "source": [
    "# output_path 컴파일된 모델이 S3에 저장되는 위치\n",
    "output_path = \"/\".join(estimator.output_path.split(\"/\")[:-1])\n",
    "\n",
    "# Neo compile할 대상 하드웨어 및 프레임워크 선택\n",
    "optimized_estimator = estimator.compile_model(\n",
    "    target_instance_family=\"ml_c5\",\n",
    "    input_shape={\"data\": [1, 784]},  # Batch size 1, 1 channel, 28*28 image size.\n",
    "    output_path=output_path,\n",
    "    framework=\"tensorflow\",\n",
    "    framework_version=\"1.15.3\",\n",
    ")"
   ]
  },
  {
   "cell_type": "markdown",
   "id": "5782cb74",
   "metadata": {},
   "source": [
    "### 컴파일 된 모델 엔드포인트에 배포"
   ]
  },
  {
   "cell_type": "code",
   "execution_count": 12,
   "id": "ae1c1c74",
   "metadata": {},
   "outputs": [
    {
     "name": "stderr",
     "output_type": "stream",
     "text": [
      "update_endpoint is a no-op in sagemaker>=2.\n",
      "See: https://sagemaker.readthedocs.io/en/stable/v2.html for details.\n"
     ]
    },
    {
     "name": "stdout",
     "output_type": "stream",
     "text": [
      "----!"
     ]
    }
   ],
   "source": [
    "# 모델 최적화 후 실시간으로 예측 요청을 제공하는 Endpoint에 배포\n",
    "optimized_predictor = optimized_estimator.deploy(\n",
    "    initial_instance_count=1, instance_type=\"ml.c5.xlarge\"\n",
    ")"
   ]
  },
  {
   "cell_type": "markdown",
   "id": "a5c0850a",
   "metadata": {},
   "source": [
    "## 두 번째 실험"
   ]
  },
  {
   "cell_type": "markdown",
   "id": "9391f452",
   "metadata": {},
   "source": [
    "- Neo compile 후 / 추론 컨테이너 이미지 지정 전 훈련 모델 성능 측정"
   ]
  },
  {
   "cell_type": "code",
   "execution_count": 13,
   "id": "42c3499c",
   "metadata": {},
   "outputs": [
    {
     "name": "stdout",
     "output_type": "stream",
     "text": [
      "Accuracy: 99.966\n",
      "CPU times: user 22.3 s, sys: 624 ms, total: 23 s\n",
      "Wall time: 1min 19s\n"
     ]
    }
   ],
   "source": [
    "%%time\n",
    "# %%time : 해당 셀이 실행되는 데 걸리는 시간 측정\n",
    "\n",
    "# prediction : 모델의 예측값\n",
    "# label : 데이터의 실제값\n",
    "# count : 예측이 틀린 횟수\n",
    "\n",
    "count = 0\n",
    "for i in range(0, 10000):\n",
    "    data = train_data[i].tolist()\n",
    "    predictions = optimized_predictor.predict({\"instances\": np.asarray(data).tolist()})\n",
    "    prediction = predictions[\"predictions\"][0][\"classes\"]\n",
    "    label = train_labels[i]\n",
    "#     print(\"prediction: {}, label: {}, matched: {}\".format(prediction, label, prediction == label))\n",
    "    if (prediction != label):\n",
    "        count += 1\n",
    "count = 100 - count/10000\n",
    "print(\"Accuracy: {}\".format(count))"
   ]
  },
  {
   "cell_type": "markdown",
   "id": "a6f2f816",
   "metadata": {},
   "source": [
    "### 엔드포인트 삭제"
   ]
  },
  {
   "cell_type": "code",
   "execution_count": 14,
   "id": "9043ec8b",
   "metadata": {},
   "outputs": [],
   "source": [
    "optimized_predictor.delete_endpoint()"
   ]
  },
  {
   "cell_type": "markdown",
   "id": "6d352c35",
   "metadata": {},
   "source": [
    " "
   ]
  },
  {
   "cell_type": "markdown",
   "id": "f4c9342f",
   "metadata": {},
   "source": [
    " "
   ]
  },
  {
   "cell_type": "markdown",
   "id": "5d3ba100",
   "metadata": {},
   "source": [
    "# 4. 추론 컨테이너를 지정한 Neo 훈련 모델 배포"
   ]
  },
  {
   "cell_type": "markdown",
   "id": "bd0a36ce",
   "metadata": {},
   "source": [
    "### 모델 컴파일"
   ]
  },
  {
   "cell_type": "code",
   "execution_count": 15,
   "id": "c04f6aef",
   "metadata": {},
   "outputs": [
    {
     "name": "stdout",
     "output_type": "stream",
     "text": [
      "??????????????????????????.................................!"
     ]
    }
   ],
   "source": [
    "# output_path 컴파일된 모델이 S3에 저장되는 위치\n",
    "output_path = \"/\".join(estimator.output_path.split(\"/\")[:-1])\n",
    "\n",
    "# Neo compile할 대상 하드웨어 및 프레임워크 선택\n",
    "optimized_estimator = estimator.compile_model(\n",
    "    target_instance_family=\"ml_c5\",\n",
    "    input_shape={\"data\": [1, 784]},  # Batch size 1, 1 channel, 28*28 image size.\n",
    "    output_path=output_path,\n",
    "    framework=\"tensorflow\",\n",
    "    framework_version=\"1.15.3\",\n",
    ")"
   ]
  },
  {
   "cell_type": "markdown",
   "id": "1b54e623",
   "metadata": {},
   "source": [
    "### 추론 컨테이너 이미지 지정"
   ]
  },
  {
   "cell_type": "code",
   "execution_count": 16,
   "id": "af770ea9",
   "metadata": {},
   "outputs": [],
   "source": [
    "optimized_estimator.image_uri = (\n",
    "    \"301217895009.dkr.ecr.us-west-2.amazonaws.com/sagemaker-inference-tensorflow:1.15.3-cpu-py3\"\n",
    ")"
   ]
  },
  {
   "cell_type": "markdown",
   "id": "b9ca4981",
   "metadata": {},
   "source": [
    "### 컴파일 된 모델 엔드포인트에 배포"
   ]
  },
  {
   "cell_type": "code",
   "execution_count": 17,
   "id": "1aced074",
   "metadata": {},
   "outputs": [
    {
     "name": "stderr",
     "output_type": "stream",
     "text": [
      "update_endpoint is a no-op in sagemaker>=2.\n",
      "See: https://sagemaker.readthedocs.io/en/stable/v2.html for details.\n"
     ]
    },
    {
     "name": "stdout",
     "output_type": "stream",
     "text": [
      "----!"
     ]
    }
   ],
   "source": [
    "optimized_predictor = optimized_estimator.deploy(\n",
    "    initial_instance_count=1, instance_type=\"ml.c5.xlarge\"\n",
    ")"
   ]
  },
  {
   "cell_type": "markdown",
   "id": "ac696007",
   "metadata": {},
   "source": [
    "## 세 번째 실험"
   ]
  },
  {
   "cell_type": "markdown",
   "id": "5bc1173b",
   "metadata": {},
   "source": [
    "- Neo compile 후 / 추론 컨테이너 이미지 지정 후 훈련 모델 성능 측정"
   ]
  },
  {
   "cell_type": "code",
   "execution_count": 18,
   "id": "c8c37ca2",
   "metadata": {},
   "outputs": [
    {
     "name": "stdout",
     "output_type": "stream",
     "text": [
      "Accuracy: 99.966\n",
      "CPU times: user 22.2 s, sys: 607 ms, total: 22.8 s\n",
      "Wall time: 1min 15s\n"
     ]
    }
   ],
   "source": [
    "%%time\n",
    "# %%time : 해당 셀이 실행되는 데 걸리는 시간 측정\n",
    "\n",
    "# prediction : 모델의 예측값\n",
    "# label : 데이터의 실제값\n",
    "# count : 예측이 틀린 횟수\n",
    "\n",
    "count = 0\n",
    "for i in range(0, 10000):\n",
    "    data = train_data[i].tolist()\n",
    "    predictions = optimized_predictor.predict({\"instances\": np.asarray(data).tolist()})\n",
    "    prediction = predictions[\"predictions\"][0][\"classes\"]\n",
    "    label = train_labels[i]\n",
    "#     print(\"prediction: {}, label: {}, matched: {}\".format(prediction, label, prediction == label))\n",
    "    if (prediction != label):\n",
    "        count += 1\n",
    "count = 100 - count/10000\n",
    "print(\"Accuracy: {}\".format(count))"
   ]
  },
  {
   "cell_type": "markdown",
   "id": "0bcc837c",
   "metadata": {},
   "source": [
    "### 엔드포인트 삭제"
   ]
  },
  {
   "cell_type": "code",
   "execution_count": 19,
   "id": "044cd18a",
   "metadata": {},
   "outputs": [],
   "source": [
    "optimized_predictor.delete_endpoint()"
   ]
  }
 ],
 "metadata": {
  "kernelspec": {
   "display_name": "conda_tensorflow_p36",
   "language": "python",
   "name": "conda_tensorflow_p36"
  },
  "language_info": {
   "codemirror_mode": {
    "name": "ipython",
    "version": 3
   },
   "file_extension": ".py",
   "mimetype": "text/x-python",
   "name": "python",
   "nbconvert_exporter": "python",
   "pygments_lexer": "ipython3",
   "version": "3.6.13"
  }
 },
 "nbformat": 4,
 "nbformat_minor": 5
}
